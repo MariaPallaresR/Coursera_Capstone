{
    "cells": [
        {
            "metadata": {
                "collapsed": true
            },
            "cell_type": "markdown",
            "source": "# Data\n\nIn this Project we will be using a shared dataset for Seattle city. It contains different characteristics about the collisions in this city between the years 2004 and 2020. The label for the dataset is severity, which describes the fatality of an accident. The severity can be an \u201cinjury collision\u201d or a \u201cproperty damage only collision\u201d.\n\nSome of the attributes or features from this dataset are: the exact moment and location where accidents take place and the junction type (intersection, driveway junction\u2026); weather (raining, snowing, fog\u2026), road (wet, dry, sand\u2026) and light (daylight, dark with street lights on / of\u2026) condition at that moment; whether the car involved in an accident was speeding or not; if drivers were under the influence of drugs; as well as the number of people and vehicles involved."
        },
        {
            "metadata": {},
            "cell_type": "code",
            "source": "",
            "execution_count": null,
            "outputs": []
        }
    ],
    "metadata": {
        "kernelspec": {
            "name": "python3",
            "display_name": "Python 3.6",
            "language": "python"
        },
        "language_info": {
            "name": "python",
            "version": "3.6.9",
            "mimetype": "text/x-python",
            "codemirror_mode": {
                "name": "ipython",
                "version": 3
            },
            "pygments_lexer": "ipython3",
            "nbconvert_exporter": "python",
            "file_extension": ".py"
        }
    },
    "nbformat": 4,
    "nbformat_minor": 1
}