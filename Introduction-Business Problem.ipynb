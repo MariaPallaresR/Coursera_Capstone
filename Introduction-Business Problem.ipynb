{
    "cells": [
        {
            "metadata": {
                "collapsed": true
            },
            "cell_type": "markdown",
            "source": "# Introduction / Business Problem:\n\nTraffic accidents are one of the major causes of disability and mortality in many different countries. According to the World Health Organization (WHO) \u201capproximately 1.35 million people die each year as a result of road traffic crashes\u201d, and \u201croad traffic injuries are the leading cause of death for children and young adults.\u201d\n\nIt does not only causes deaths, but also millions of non-fatal injuries (between 20 and 50 million more people suffer it, according to the WHO), with many incurring a disability as a result of their injury.\n\nIt is also important to note that \u201cmore than half of all road traffic deaths are among vulnerable road users\u201d, so it is not only about ourselves as drivers, but also about the passengers, pedestrians, cyclists and motorcyclists that could be involved in an accident.\n\nThose injuries cause economic losses to individuals, their families, and to nations. These losses are materialized as the cost of treatment and lost of productivity for those killed or disabled, and for family members who have to take time off work to care for them. According to WHO, \u201croad traffic crashes cost most countries 3% of their GDP\u201d.\n\nSpeeding and an unsafe road infrastructure are two key risk factors of a road traffic accident, influencing both the risk of a crash and the severity of the injuries suffered.\n\nOn the other hand, the US Department of Transportation explains that approximately 21% of vehicle crashes in a year are weather-related.\n\nThis Car accident severity Capestone Project will focus on the analysis of a shared dataset for Seattle city, in order to create a machine-learning model able to predict accident \"severity\". So drivers can be warned and have more information about the possibility of getting into a car accident and how severe it would be.\n\nLet\u2019s set an example of a group of friends or a family that is planning to travel by car to visit their relatives / friends. Wouldn\u2019t it be great if there was something in place that could warn them, given the weather and the road conditions about the possibility of getting into a car accident and how severe it would be, so that they would drive more carefully or even change their travel if they are able to? Or imagine that you have a very important business meeting in another city and you are a bit in a hurry, it would be great if there were something to help you to know the places where you have to be more careful when driving, and changing your route if possible, so you arrive both safe and on time."
        },
        {
            "metadata": {},
            "cell_type": "code",
            "source": "",
            "execution_count": null,
            "outputs": []
        }
    ],
    "metadata": {
        "kernelspec": {
            "name": "python3",
            "display_name": "Python 3.6",
            "language": "python"
        },
        "language_info": {
            "name": "python",
            "version": "3.6.9",
            "mimetype": "text/x-python",
            "codemirror_mode": {
                "name": "ipython",
                "version": 3
            },
            "pygments_lexer": "ipython3",
            "nbconvert_exporter": "python",
            "file_extension": ".py"
        }
    },
    "nbformat": 4,
    "nbformat_minor": 1
}