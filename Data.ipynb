{
    "cells": [
        {
            "cell_type": "markdown",
            "metadata": {
                "collapsed": true
            },
            "source": "# Data\n\nIn this Project we will be using a shared dataset for Seattle city. It contains different characteristics about the collisions in this city between the years 2004 and 2020. The label for the dataset is severity, which describes the fatality of an accident. The severity can be an \u201cinjury collision\u201d or a \u201cproperty damage only collision\u201d.\n\nSome of the attributes or features from this dataset are: the exact moment and location where accidents take place and the junction type (intersection, driveway junction\u2026); weather (raining, snowing, fog\u2026), road (wet, dry, sand\u2026) and light (daylight, dark with street lights on / of\u2026) condition at that moment; whether the car involved in an accident was speeding or not; if drivers were under the influence of drugs; as well as the number of people and vehicles involved.\n\nWe are going to use the dataset described above in order to create a machine-learning model able to predict accident \"severity\", and see which of the variables mentioned above have a higher/lower effect in the severity of a traffic accident. For example, we will see which weather conditions are more likely to \u201ccause\u201d a traffic accident, if it is during daylight or in dark conditions, in which junction type and how many cars could be involved, among others."
        },
        {
            "cell_type": "code",
            "execution_count": null,
            "metadata": {},
            "outputs": [],
            "source": ""
        }
    ],
    "metadata": {
        "kernelspec": {
            "display_name": "Python 3.6",
            "language": "python",
            "name": "python3"
        },
        "language_info": {
            "codemirror_mode": {
                "name": "ipython",
                "version": 3
            },
            "file_extension": ".py",
            "mimetype": "text/x-python",
            "name": "python",
            "nbconvert_exporter": "python",
            "pygments_lexer": "ipython3",
            "version": "3.6.9"
        }
    },
    "nbformat": 4,
    "nbformat_minor": 1
}